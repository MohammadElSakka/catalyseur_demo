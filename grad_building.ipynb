{
 "cells": [
  {
   "cell_type": "code",
   "execution_count": 1,
   "metadata": {},
   "outputs": [],
   "source": [
    "from controllers import generate_image_controller"
   ]
  },
  {
   "cell_type": "code",
   "execution_count": 2,
   "metadata": {},
   "outputs": [
    {
     "data": {
      "text/plain": [
       "[<PIL.JpegImagePlugin.JpegImageFile image mode=RGB size=512x512>,\n",
       " '\\n\\n**Indulge in timeless style with our exquisite leather jacket.**\\n\\n**Features:**\\n\\n- Premium-quality leather construction for durability and comfort\\n- Classic fit for a timeless look\\n- Sophisticated design with a timeless appeal\\n- Available in a range of classic colors and styles\\n\\n**Benefits:**\\n\\n- Elevate your style and make a statement\\n- Experience the ultimate in leather quality and craftsmanship\\n- Feel confident and stylish in every occasion\\n\\n**Price:** [Insert price]\\n\\n**Limited time offer:** Get 10% off your purchase with code \"LEATHERLOVE\"\\n\\n**Shop now and embrace the timeless elegance of our leather jacket!**\\n\\n**#LeatherJacket #TimelessStyle #SophisticatedDesign**']"
      ]
     },
     "execution_count": 2,
     "metadata": {},
     "output_type": "execute_result"
    }
   ],
   "source": [
    "generate_image_controller('nice leather jacket')"
   ]
  },
  {
   "cell_type": "code",
   "execution_count": 1,
   "metadata": {},
   "outputs": [
    {
     "name": "stderr",
     "output_type": "stream",
     "text": [
      "/home/tensorboard/.local/lib/python3.10/site-packages/tqdm/auto.py:21: TqdmWarning: IProgress not found. Please update jupyter and ipywidgets. See https://ipywidgets.readthedocs.io/en/stable/user_install.html\n",
      "  from .autonotebook import tqdm as notebook_tqdm\n"
     ]
    },
    {
     "name": "stdout",
     "output_type": "stream",
     "text": [
      "Running on local URL:  http://127.0.0.1:7860\n",
      "\n",
      "To create a public link, set `share=True` in `launch()`.\n"
     ]
    },
    {
     "data": {
      "text/html": [
       "<div><iframe src=\"http://127.0.0.1:7860/\" width=\"100%\" height=\"500\" allow=\"autoplay; camera; microphone; clipboard-read; clipboard-write;\" frameborder=\"0\" allowfullscreen></iframe></div>"
      ],
      "text/plain": [
       "<IPython.core.display.HTML object>"
      ]
     },
     "metadata": {},
     "output_type": "display_data"
    },
    {
     "data": {
      "text/plain": []
     },
     "execution_count": 1,
     "metadata": {},
     "output_type": "execute_result"
    }
   ],
   "source": [
    "import gradio as gr\n",
    "from controllers import generate_image_controller\n",
    "with gr.Blocks() as demo:\n",
    "    gr.Markdown(value='Fast Fashion addvertisment with Generative AI')\n",
    "    user_prompt = gr.Textbox(label='Please, introduce your fashion idea in English')\n",
    "    generation_bottom = gr.Button(value='Generate fashion!')\n",
    "    generated_image = gr.Image(label='Fashion image',height=512, width=512)\n",
    "    generated_text = gr.Textbox(label='Fashion text')\n",
    "    generation_bottom.click(\n",
    "                            fn=generate_image_controller,\n",
    "                            inputs=[user_prompt],\n",
    "                            outputs=[generated_image, generated_text]\n",
    "                            )\n",
    "    \n",
    "gr.close_all()\n",
    "demo.launch()"
   ]
  },
  {
   "cell_type": "code",
   "execution_count": null,
   "metadata": {},
   "outputs": [],
   "source": []
  }
 ],
 "metadata": {
  "language_info": {
   "name": "python"
  }
 },
 "nbformat": 4,
 "nbformat_minor": 2
}
