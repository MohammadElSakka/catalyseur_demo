{
 "cells": [
  {
   "cell_type": "code",
   "execution_count": 1,
   "metadata": {},
   "outputs": [],
   "source": [
    "from controllers import generate_image_controller"
   ]
  },
  {
   "cell_type": "code",
   "execution_count": 6,
   "metadata": {},
   "outputs": [
    {
     "data": {
      "text/plain": [
       "[<PIL.JpegImagePlugin.JpegImageFile image mode=RGB size=512x512>,\n",
       " '\\n\\n**Indulge in timeless style with our exquisite leather jacket.**\\n\\n**Features:**\\n\\n- Premium-quality leather construction for durability and comfort\\n- Classic fit for a timeless look\\n- Sophisticated design with a timeless appeal\\n- Available in a range of classic colors and styles\\n\\n**Benefits:**\\n\\n- Elevate your style and make a statement\\n- Experience the ultimate in leather quality and craftsmanship\\n- Feel confident and stylish in every occasion\\n\\n**Price:** [Insert price]\\n\\n**Limited time offer:** Get 10% off your purchase with code \"LEATHERLOVE\"\\n\\n**Shop now and embrace the timeless elegance of our leather jacket!**\\n\\n**#LeatherJacket #TimelessStyle #SophisticatedDesign**']"
      ]
     },
     "execution_count": 6,
     "metadata": {},
     "output_type": "execute_result"
    }
   ],
   "source": [
    "generate_image_controller('nice leather jacket')"
   ]
  },
  {
   "cell_type": "code",
   "execution_count": 24,
   "metadata": {},
   "outputs": [
    {
     "name": "stdout",
     "output_type": "stream",
     "text": [
      "Defaulting to user installation because normal site-packages is not writeable\n",
      "Collecting markdown\n",
      "  Downloading Markdown-3.6-py3-none-any.whl (105 kB)\n",
      "\u001b[2K     \u001b[90m━━━━━━━━━━━━━━━━━━━━━━━━━━━━━━━━━━━━━━━\u001b[0m \u001b[32m105.4/105.4 KB\u001b[0m \u001b[31m2.6 MB/s\u001b[0m eta \u001b[36m0:00:00\u001b[0ma \u001b[36m0:00:01\u001b[0m\n",
      "\u001b[?25hInstalling collected packages: markdown\n",
      "Successfully installed markdown-3.6\n",
      "Note: you may need to restart the kernel to use updated packages.\n"
     ]
    }
   ],
   "source": [
    "%pip install markdown"
   ]
  },
  {
   "cell_type": "code",
   "execution_count": 26,
   "metadata": {},
   "outputs": [
    {
     "data": {
      "text/plain": [
       "'<h1>Lovely <strong>weather</strong></h1>'"
      ]
     },
     "execution_count": 26,
     "metadata": {},
     "output_type": "execute_result"
    }
   ],
   "source": [
    "import markdown\n",
    "\n",
    "markdown.markdown('# Lovely **weather**')"
   ]
  },
  {
   "cell_type": "code",
   "execution_count": 7,
   "metadata": {},
   "outputs": [
    {
     "name": "stdout",
     "output_type": "stream",
     "text": [
      "Running on local URL:  http://127.0.0.1:7863\n",
      "\n",
      "To create a public link, set `share=True` in `launch()`.\n"
     ]
    },
    {
     "data": {
      "text/html": [
       "<div><iframe src=\"http://127.0.0.1:7863/\" width=\"100%\" height=\"500\" allow=\"autoplay; camera; microphone; clipboard-read; clipboard-write;\" frameborder=\"0\" allowfullscreen></iframe></div>"
      ],
      "text/plain": [
       "<IPython.core.display.HTML object>"
      ]
     },
     "metadata": {},
     "output_type": "display_data"
    },
    {
     "data": {
      "text/plain": []
     },
     "execution_count": 7,
     "metadata": {},
     "output_type": "execute_result"
    }
   ],
   "source": [
    "import gradio as gr\n",
    "\n",
    "from controllers import generate_image_controller\n",
    "with gr.Blocks() as demo:\n",
    "    gr.Markdown(value='# **Fast Fashion addvertisment with Generative AI**')\n",
    "    user_prompt = gr.Textbox(label='Please, introduce your fashion idea in English', placeholder='Beautiful snake leather boots',min_width=512)\n",
    "    generation_bottom = gr.Button(value='Generate fashion!')\n",
    "    \n",
    "    with gr.Row(equal_height=True) as r:\n",
    "\n",
    "        \n",
    "        generated_image = gr.Image(label='Fashion image',height=512, width=512)\n",
    "        generated_text = gr.Markdown(label='Fashion text')\n",
    "        generation_bottom.click(\n",
    "                                fn=generate_image_controller,\n",
    "                                inputs=[user_prompt],\n",
    "                                outputs=[generated_image, generated_text]\n",
    "                                )\n",
    "    clear = gr.ClearButton(components=[generated_image, generated_text])\n",
    "gr.close_all()\n",
    "demo.launch()"
   ]
  },
  {
   "cell_type": "code",
   "execution_count": 8,
   "metadata": {},
   "outputs": [],
   "source": [
    "gr.close_all()"
   ]
  },
  {
   "cell_type": "code",
   "execution_count": null,
   "metadata": {},
   "outputs": [],
   "source": []
  }
 ],
 "metadata": {
  "kernelspec": {
   "display_name": "Python 3",
   "language": "python",
   "name": "python3"
  },
  "language_info": {
   "codemirror_mode": {
    "name": "ipython",
    "version": 3
   },
   "file_extension": ".py",
   "mimetype": "text/x-python",
   "name": "python",
   "nbconvert_exporter": "python",
   "pygments_lexer": "ipython3",
   "version": "3.10.12"
  }
 },
 "nbformat": 4,
 "nbformat_minor": 2
}
